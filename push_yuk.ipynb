{
 "cells": [
  {
   "cell_type": "markdown",
   "metadata": {},
   "source": [
    "# HOW TO PUSH GIT"
   ]
  },
  {
   "cell_type": "markdown",
   "metadata": {},
   "source": [
    "1. `git clone <link ssh>` assignment\n",
    "2. `cd` ke repo di local device kalian\n",
    "3. buat file tugas atau copas dari folder sebelum repo terbentuk\n",
    "4. `git status` untuk cek file terbaru tsb -> warna file merah\n",
    "5. `git add .` untuk masukan seluruh file di repo lokal ke stage mode\n",
    "6. `git status` file yang merah sudah menjadi hijau\n",
    "7. `git commit -m \"final push\"` untuk commit tugas dan memberikan message(-m)\n",
    "8. `git push` untuk push ke git hub kalian\n",
    "9. make sure github kalian file baru sudah terupload\n",
    "10. `git checkout` <no version> untuk cek versi lokal dan versi github\n"
   ]
  },
  {
   "cell_type": "markdown",
   "metadata": {},
   "source": [
    "# Notebook\n",
    "## Subheading 1\n",
    "### Subheading 2\n"
   ]
  },
  {
   "cell_type": "markdown",
   "metadata": {},
   "source": []
  },
  {
   "cell_type": "markdown",
   "metadata": {},
   "source": [
    "Barang rumah tangga\n",
    "1. dapur\n",
    "    - garpu\n",
    "    - sendok\n",
    "    - piring\n",
    "2. kamar mandi\n",
    "    - sikat gigi\n",
    "    - odol\n",
    "    - sabun\n",
    "\n"
   ]
  },
  {
   "cell_type": "markdown",
   "metadata": {},
   "source": [
    "membedakan text dengan code\n",
    "```\n",
    "petik\n",
    "```\n",
    "\n",
    "```sql\n",
    "select * from <table>```\n"
   ]
  },
  {
   "cell_type": "markdown",
   "metadata": {},
   "source": [
    "**bold**  \n",
    "*italic*  \n",
    "***bold_italic***  \n"
   ]
  },
  {
   "cell_type": "markdown",
   "metadata": {},
   "source": [
    "```sql\n",
    "select * from <table>\n",
    "```\n",
    "\n",
    "```py\n"
   ]
  }
 ],
 "metadata": {
  "kernelspec": {
   "display_name": "Python 3",
   "language": "python",
   "name": "python3"
  },
  "language_info": {
   "name": "python",
   "version": "3.9.21"
  }
 },
 "nbformat": 4,
 "nbformat_minor": 2
}
